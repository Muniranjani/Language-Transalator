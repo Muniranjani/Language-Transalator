{
 "cells": [
  {
   "cell_type": "code",
   "execution_count": 9,
   "id": "13e18628-01fa-4c6f-b26f-4add91bb6882",
   "metadata": {},
   "outputs": [],
   "source": [
    "from googletrans import Translator, LANGUAGES\n",
    "import tkinter as tk\n",
    "from tkinter import ttk, messagebox\n"
   ]
  },
  {
   "cell_type": "code",
   "execution_count": 10,
   "id": "4f31a6f6-d6d0-4a58-8f57-69d7f797d4c3",
   "metadata": {},
   "outputs": [],
   "source": [
    "def translate_text():\n",
    "    source_text = source_entry.get(\"1.0\", \"end-1c\")\n",
    "    src_lang = src_lang_combo.get()\n",
    "    dest_lang = dest_lang_combo.get()\n",
    "\n",
    "    if not source_text.strip():\n",
    "        messagebox.showwarning(\"Warning\", \"Please enter text to translate!\")\n",
    "        return\n",
    "\n",
    "    translator = Translator()\n",
    "    try:\n",
    "        translated_text = translator.translate(source_text, src=src_lang, dest=dest_lang).text\n",
    "        target_entry.delete(\"1.0\", \"end\")\n",
    "        target_entry.insert(\"end\", translated_text)\n",
    "    except Exception as e:\n",
    "        messagebox.showerror(\"Error\", f\"Translation Failed: {str(e)}\")\n"
   ]
  },
  {
   "cell_type": "code",
   "execution_count": 11,
   "id": "204b2ade-51d9-491d-83ac-819407cbb120",
   "metadata": {},
   "outputs": [],
   "source": [
    "# Initialize GUI window\n",
    "root = tk.Tk()\n",
    "root.title(\"Language Translator\")\n",
    "root.geometry(\"600x400\")\n",
    "root.resizable(False, False)\n",
    "\n",
    "# Language selection\n",
    "langs = list(LANGUAGES.values())\n",
    "\n",
    "ttk.Label(root, text=\"Source Language:\", font=(\"Arial\", 12)).place(x=20, y=20)\n",
    "src_lang_combo = ttk.Combobox(root, values=langs, width=20)\n",
    "src_lang_combo.place(x=150, y=20)\n",
    "src_lang_combo.set(\"english\")\n",
    "\n",
    "ttk.Label(root, text=\"Target Language:\", font=(\"Arial\", 12)).place(x=320, y=20)\n",
    "dest_lang_combo = ttk.Combobox(root, values=langs, width=20)\n",
    "dest_lang_combo.place(x=450, y=20)\n",
    "dest_lang_combo.set(\"tamil\")\n",
    "\n",
    "# Input Text\n",
    "source_entry = tk.Text(root, height=5, width=60)\n",
    "source_entry.place(x=20, y=60)\n",
    "\n",
    "# Translate Button\n",
    "translate_btn = ttk.Button(root, text=\"Translate\", command=translate_text)\n",
    "translate_btn.place(x=260, y=170)\n",
    "\n",
    "# Output Text\n",
    "target_entry = tk.Text(root, height=5, width=60)\n",
    "target_entry.place(x=20, y=220)\n",
    "\n",
    "# Run the application\n",
    "root.mainloop()\n",
    "\n"
   ]
  },
  {
   "cell_type": "code",
   "execution_count": null,
   "id": "650d919c-07e4-4d87-a6e4-411bcae7709a",
   "metadata": {},
   "outputs": [],
   "source": []
  }
 ],
 "metadata": {
  "kernelspec": {
   "display_name": "Python 3 (ipykernel)",
   "language": "python",
   "name": "python3"
  },
  "language_info": {
   "codemirror_mode": {
    "name": "ipython",
    "version": 3
   },
   "file_extension": ".py",
   "mimetype": "text/x-python",
   "name": "python",
   "nbconvert_exporter": "python",
   "pygments_lexer": "ipython3",
   "version": "3.12.7"
  }
 },
 "nbformat": 4,
 "nbformat_minor": 5
}
